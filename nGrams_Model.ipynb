{
 "cells": [
  {
   "cell_type": "code",
   "execution_count": 1,
   "id": "7d161d92",
   "metadata": {},
   "outputs": [
    {
     "name": "stdout",
     "output_type": "stream",
     "text": [
      "Requirement already satisfied: nltk in c:\\users\\vtung\\appdata\\local\\programs\\python\\python310\\lib\\site-packages (3.8.1)\n",
      "Requirement already satisfied: click in c:\\users\\vtung\\appdata\\local\\programs\\python\\python310\\lib\\site-packages (from nltk) (8.1.6)\n",
      "Requirement already satisfied: joblib in c:\\users\\vtung\\appdata\\local\\programs\\python\\python310\\lib\\site-packages (from nltk) (1.3.2)\n",
      "Requirement already satisfied: regex>=2021.8.3 in c:\\users\\vtung\\appdata\\local\\programs\\python\\python310\\lib\\site-packages (from nltk) (2023.8.8)\n",
      "Requirement already satisfied: tqdm in c:\\users\\vtung\\appdata\\local\\programs\\python\\python310\\lib\\site-packages (from nltk) (4.66.1)\n",
      "Requirement already satisfied: colorama in c:\\users\\vtung\\appdata\\local\\programs\\python\\python310\\lib\\site-packages (from click->nltk) (0.4.6)\n"
     ]
    }
   ],
   "source": [
    "!pip install nltk"
   ]
  },
  {
   "cell_type": "code",
   "execution_count": 5,
   "id": "46e8dbcd",
   "metadata": {},
   "outputs": [
    {
     "name": "stderr",
     "output_type": "stream",
     "text": [
      "[nltk_data] Downloading package brown to\n",
      "[nltk_data]     C:\\Users\\vtung\\AppData\\Roaming\\nltk_data...\n",
      "[nltk_data]   Unzipping corpora\\brown.zip.\n"
     ]
    }
   ],
   "source": [
    "import nltk\n",
    "nltk.download('brown')\n",
    "from nltk.corpus import brown\n",
    "from nltk.tokenize import word_tokenize"
   ]
  },
  {
   "cell_type": "code",
   "execution_count": 12,
   "id": "cba7ec42",
   "metadata": {},
   "outputs": [
    {
     "name": "stdout",
     "output_type": "stream",
     "text": [
      "CORPUS: ['the', 'fulton', 'county', 'grand', 'jury', 'said', 'friday', 'an', 'investigation', 'of', \"atlanta's\", 'recent', 'primary', 'election', 'produced', '``', 'no', 'evidence', \"''\", 'that']\n",
      "\n",
      "VOCAB: ['allied', 'praying', 'insinuates', 'actors', \"kirov's\", 'exasperating', 'tripoli', '269', '3%', 'beers']\n"
     ]
    }
   ],
   "source": [
    "# Loading corpus\n",
    "corpus = brown.words()\n",
    "\n",
    "# Convert word to lowercase and get vocab\n",
    "lowercase_corpus = [w.lower() for w in corpus] # -> lower-case corpus\n",
    "vocab = set(lowercase_corpus) # -> distinctive words from corpus\n",
    "\n",
    "print(f\"CORPUS: {lowercase_corpus[:20]}\\n\")\n",
    "print(f\"VOCAB: {list(vocab)[:10]}\")"
   ]
  },
  {
   "cell_type": "code",
   "execution_count": 13,
   "id": "800a60e5",
   "metadata": {},
   "outputs": [
    {
     "name": "stdout",
     "output_type": "stream",
     "text": [
      "Total words in corpus: 1161192\n",
      "Total vocabs in corpus: 49815\n"
     ]
    }
   ],
   "source": [
    "# How many words in corpus and vocab?\n",
    "print(f\"Total words in corpus: {len(lowercase_corpus)}\")\n",
    "print(f\"Total vocabs in corpus: {len(vocab)}\")"
   ]
  },
  {
   "cell_type": "code",
   "execution_count": 19,
   "id": "e2862b18",
   "metadata": {},
   "outputs": [
    {
     "name": "stdout",
     "output_type": "stream",
     "text": [
      "Count for bigram ('grand', 'jury') is: 10\n",
      "Count for trigram ('grand', 'jury', 'said') is: 1\n"
     ]
    }
   ],
   "source": [
    "bigram_counts = {}\n",
    "trigram_counts = {}\n",
    "\n",
    "# Count bigrams and trigrams\n",
    "for i in range(len(lowercase_corpus) - 2):\n",
    "    bigram = (lowercase_corpus[i], lowercase_corpus[i+1])\n",
    "    trigram = (lowercase_corpus[i], lowercase_corpus[i+1], lowercase_corpus[i+2])\n",
    "    \n",
    "    if bigram in bigram_counts.keys():\n",
    "        bigram_counts[bigram] += 1\n",
    "    else:\n",
    "        bigram_counts[bigram] = 1\n",
    "    \n",
    "    if trigram in trigram_counts.keys():\n",
    "        trigram_counts[trigram] += 1\n",
    "    else:\n",
    "        trigram_counts[trigram] = 1 \n",
    "\n",
    "print(f\"Count for bigram ('grand', 'jury') is: {bigram_counts[('grand', 'jury')]}\")\n",
    "print(f\"Count for trigram ('grand', 'jury', 'said') is: {trigram_counts[('grand', 'jury', 'said')]}\")"
   ]
  },
  {
   "cell_type": "code",
   "execution_count": 26,
   "id": "ef2b344c",
   "metadata": {},
   "outputs": [],
   "source": [
    "def suggestion_model(_input, bigram_counts, trigram_counts, vocab):\n",
    "    # Consider las bigram of sentence\n",
    "    tokenized_input = word_tokenize(_input.lower())\n",
    "    last_bigram = tokenized_input[-2:] # -> last two words of input\n",
    "    \n",
    "    # Prob for each word in vocab\n",
    "    vocab_probs = {}\n",
    "    for vocab_word in vocab:\n",
    "        test_trigram = (last_bigram[0], last_bigram[1], vocab_word)\n",
    "        test_bigram = (last_bigram[0], last_bigram[1])\n",
    "        \n",
    "        test_trigram_count = trigram_counts.get(test_trigram, 0) # -> Return 0 if not exist\n",
    "        test_bigram_count = bigram_counts.get(test_bigram, 0) # -> Return 0 if not exist\n",
    "        \n",
    "        probability = (test_trigram_count + 1) / (test_bigram_count + len(vocab)) # Add-one smoothing\n",
    "        \n",
    "        vocab_probs[vocab_word] = probability\n",
    "        \n",
    "    top_suggestions = sorted(vocab_probs.items(), key= lambda x: x[1], reverse = True)[:3]\n",
    "    return top_suggestions"
   ]
  },
  {
   "cell_type": "code",
   "execution_count": 27,
   "id": "44a2ca42",
   "metadata": {},
   "outputs": [
    {
     "data": {
      "text/plain": [
       "[('the', 0.7333333333333333),\n",
       " ('a', 0.06666666666666667),\n",
       " (\"atlanta's\", 0.06666666666666667)]"
      ]
     },
     "execution_count": 27,
     "metadata": {},
     "output_type": "execute_result"
    }
   ],
   "source": [
    "suggestion_model(\"an investigation of\", bigram_counts, trigram_counts, vocab)"
   ]
  },
  {
   "cell_type": "code",
   "execution_count": null,
   "id": "62f23f45",
   "metadata": {},
   "outputs": [],
   "source": []
  }
 ],
 "metadata": {
  "kernelspec": {
   "display_name": "Python 3 (ipykernel)",
   "language": "python",
   "name": "python3"
  },
  "language_info": {
   "codemirror_mode": {
    "name": "ipython",
    "version": 3
   },
   "file_extension": ".py",
   "mimetype": "text/x-python",
   "name": "python",
   "nbconvert_exporter": "python",
   "pygments_lexer": "ipython3",
   "version": "3.10.7"
  }
 },
 "nbformat": 4,
 "nbformat_minor": 5
}
